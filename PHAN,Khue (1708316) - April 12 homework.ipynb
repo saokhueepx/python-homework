{
 "cells": [
  {
   "cell_type": "code",
   "execution_count": 8,
   "metadata": {},
   "outputs": [
    {
     "name": "stdout",
     "output_type": "stream",
     "text": [
      "Enter the length in cm:123\n",
      "123.0 cm equals 48.4251968503937 inch\n"
     ]
    }
   ],
   "source": [
    "#Cm to Inches\n",
    "length_cm = float(input('Enter the length in cm:'))\n",
    "cm2inch = 1/2.54\n",
    "length_inch = length_cm*cm2inch\n",
    "float(length_inch)\n",
    "print (f'{length_cm} cm equals {length_inch} inch')"
   ]
  },
  {
   "cell_type": "code",
   "execution_count": 9,
   "metadata": {},
   "outputs": [
    {
     "name": "stdout",
     "output_type": "stream",
     "text": [
      "Enter the temperature in Fahrenheit:123\n",
      "123.0 degrees Fahrenheit is equal to 50.55555555555556 degrees Celcius\n"
     ]
    }
   ],
   "source": [
    "# Fahrenheit to Celcius\n",
    "tempF = float(input('Enter the temperature in Fahrenheit:'))\n",
    "tempC = (tempF - 32)*5/9\n",
    "float(length_inch)\n",
    "print (f'{tempF} degrees Fahrenheit is equal to {tempC} degrees Celcius')"
   ]
  },
  {
   "cell_type": "code",
   "execution_count": 10,
   "metadata": {},
   "outputs": [
    {
     "name": "stdout",
     "output_type": "stream",
     "text": [
      "Enter first random number:12345\n",
      "Enter second randome number:08763\n",
      "The multiple of these two numbers are 108179235.0\n",
      "The addition of these two numbers are 21108.0\n",
      "First number subtracted by second number = 3582.0\n",
      "First number divided by second number = 1.4087641218760698\n"
     ]
    }
   ],
   "source": [
    "#Arithmetic Ops between two numbers\n",
    "num1 = float(input(\"Enter first random number:\"))\n",
    "num2 = float(input(\"Enter second randome number:\"))\n",
    "\n",
    "multiple = num1*num2\n",
    "addition = num1+num2\n",
    "subtraction = num1-num2\n",
    "division = num1/num2\n",
    "\n",
    "print(f'The multiple of these two numbers are {multiple}')\n",
    "print(f'The addition of these two numbers are {addition}')\n",
    "print(f'First number subtracted by second number = {subtraction}')\n",
    "print(f'First number divided by second number = {division}')"
   ]
  },
  {
   "cell_type": "code",
   "execution_count": null,
   "metadata": {},
   "outputs": [],
   "source": []
  }
 ],
 "metadata": {
  "kernelspec": {
   "display_name": "Python 3",
   "language": "python",
   "name": "python3"
  },
  "language_info": {
   "codemirror_mode": {
    "name": "ipython",
    "version": 3
   },
   "file_extension": ".py",
   "mimetype": "text/x-python",
   "name": "python",
   "nbconvert_exporter": "python",
   "pygments_lexer": "ipython3",
   "version": "3.8.5"
  }
 },
 "nbformat": 4,
 "nbformat_minor": 4
}
